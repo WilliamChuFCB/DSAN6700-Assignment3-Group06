{
 "cells": [
  {
   "cell_type": "markdown",
   "metadata": {},
   "source": [
    "# Assignment 3\n",
    "\n",
    "## Hyperparameter Tunning\n",
    "\n",
    "### Zifeng Xu, Wendi Chu, Kefan Yu\n",
    "\n",
    "### Net ID: zx111, wc777, ky285\n",
    "\n",
    "### Contribution:\n",
    "Zifeng Xu: Data Preparation and RandomSearch\\\n",
    "Wendi Chu: GridSearch and Comparison\\\n",
    "Kefan Yu: Classification Routine and Comparison\n",
    "\n",
    "\n",
    "### GitHub repo link:\n",
    "https://github.com/WilliamChuFCB/DSAN6700-Assignment3-Group06"
   ]
  },
  {
   "cell_type": "code",
   "execution_count": 90,
   "metadata": {},
   "outputs": [],
   "source": [
    "import numpy as np\n",
    "import pandas as pd\n",
    "import seaborn as sns\n",
    "import matplotlib.pyplot as plt\n",
    "from seaborn import set_palette\n",
    "\n",
    "from sklearn.model_selection import train_test_split\n",
    "from sklearn.preprocessing import LabelEncoder\n",
    "from sklearn.preprocessing import StandardScaler\n",
    "from sklearn.ensemble import RandomForestClassifier\n",
    "from sklearn.metrics import ConfusionMatrixDisplay, confusion_matrix\n",
    "from sklearn.ensemble import BaggingClassifier\n",
    "from sklearn.model_selection import GridSearchCV\n",
    "from sklearn.metrics import accuracy_score\n",
    "from sklearn.model_selection import RandomizedSearchCV\n",
    "from xgboost import XGBClassifier\n",
    "\n",
    "import warnings\n",
    "warnings.filterwarnings('ignore')\n",
    "import random\n",
    "random.seed(8649)"
   ]
  },
  {
   "cell_type": "markdown",
   "metadata": {},
   "source": [
    "## 6. Data Preparation (7 Points)"
   ]
  },
  {
   "cell_type": "markdown",
   "metadata": {},
   "source": [
    "### 6.1 Load the dataset and display the dataframe (2 Points)."
   ]
  },
  {
   "cell_type": "code",
   "execution_count": 63,
   "metadata": {},
   "outputs": [],
   "source": [
    "# load the dataset.\n",
    "df=pd.read_csv(\"online_shoppers_intention.csv\")"
   ]
  },
  {
   "cell_type": "code",
   "execution_count": 64,
   "metadata": {},
   "outputs": [
    {
     "data": {
      "text/html": [
       "<div>\n",
       "<style scoped>\n",
       "    .dataframe tbody tr th:only-of-type {\n",
       "        vertical-align: middle;\n",
       "    }\n",
       "\n",
       "    .dataframe tbody tr th {\n",
       "        vertical-align: top;\n",
       "    }\n",
       "\n",
       "    .dataframe thead th {\n",
       "        text-align: right;\n",
       "    }\n",
       "</style>\n",
       "<table border=\"1\" class=\"dataframe\">\n",
       "  <thead>\n",
       "    <tr style=\"text-align: right;\">\n",
       "      <th></th>\n",
       "      <th>g06_Administrative</th>\n",
       "      <th>g06_Administrative_Duration</th>\n",
       "      <th>g06_Informational</th>\n",
       "      <th>g06_Informational_Duration</th>\n",
       "      <th>g06_ProductRelated</th>\n",
       "      <th>g06_ProductRelated_Duration</th>\n",
       "      <th>g06_BounceRates</th>\n",
       "      <th>g06_ExitRates</th>\n",
       "      <th>g06_PageValues</th>\n",
       "      <th>g06_SpecialDay</th>\n",
       "      <th>g06_Month</th>\n",
       "      <th>g06_OperatingSystems</th>\n",
       "      <th>g06_Browser</th>\n",
       "      <th>g06_Region</th>\n",
       "      <th>g06_TrafficType</th>\n",
       "      <th>g06_VisitorTypeNumeric</th>\n",
       "      <th>g06_Weekend</th>\n",
       "      <th>g06_Revenue</th>\n",
       "    </tr>\n",
       "  </thead>\n",
       "  <tbody>\n",
       "    <tr>\n",
       "      <th>0</th>\n",
       "      <td>0</td>\n",
       "      <td>0.0</td>\n",
       "      <td>0</td>\n",
       "      <td>0.0</td>\n",
       "      <td>1</td>\n",
       "      <td>0.000000</td>\n",
       "      <td>0.20</td>\n",
       "      <td>0.20</td>\n",
       "      <td>0.0</td>\n",
       "      <td>0.0</td>\n",
       "      <td>Feb</td>\n",
       "      <td>1</td>\n",
       "      <td>1</td>\n",
       "      <td>1</td>\n",
       "      <td>1</td>\n",
       "      <td>1</td>\n",
       "      <td>0</td>\n",
       "      <td>0</td>\n",
       "    </tr>\n",
       "    <tr>\n",
       "      <th>1</th>\n",
       "      <td>0</td>\n",
       "      <td>0.0</td>\n",
       "      <td>0</td>\n",
       "      <td>0.0</td>\n",
       "      <td>2</td>\n",
       "      <td>64.000000</td>\n",
       "      <td>0.00</td>\n",
       "      <td>0.10</td>\n",
       "      <td>0.0</td>\n",
       "      <td>0.0</td>\n",
       "      <td>Feb</td>\n",
       "      <td>2</td>\n",
       "      <td>2</td>\n",
       "      <td>1</td>\n",
       "      <td>2</td>\n",
       "      <td>1</td>\n",
       "      <td>0</td>\n",
       "      <td>0</td>\n",
       "    </tr>\n",
       "    <tr>\n",
       "      <th>2</th>\n",
       "      <td>0</td>\n",
       "      <td>0.0</td>\n",
       "      <td>0</td>\n",
       "      <td>0.0</td>\n",
       "      <td>1</td>\n",
       "      <td>0.000000</td>\n",
       "      <td>0.20</td>\n",
       "      <td>0.20</td>\n",
       "      <td>0.0</td>\n",
       "      <td>0.0</td>\n",
       "      <td>Feb</td>\n",
       "      <td>4</td>\n",
       "      <td>1</td>\n",
       "      <td>9</td>\n",
       "      <td>3</td>\n",
       "      <td>1</td>\n",
       "      <td>0</td>\n",
       "      <td>0</td>\n",
       "    </tr>\n",
       "    <tr>\n",
       "      <th>3</th>\n",
       "      <td>0</td>\n",
       "      <td>0.0</td>\n",
       "      <td>0</td>\n",
       "      <td>0.0</td>\n",
       "      <td>2</td>\n",
       "      <td>2.666667</td>\n",
       "      <td>0.05</td>\n",
       "      <td>0.14</td>\n",
       "      <td>0.0</td>\n",
       "      <td>0.0</td>\n",
       "      <td>Feb</td>\n",
       "      <td>3</td>\n",
       "      <td>2</td>\n",
       "      <td>2</td>\n",
       "      <td>4</td>\n",
       "      <td>1</td>\n",
       "      <td>0</td>\n",
       "      <td>0</td>\n",
       "    </tr>\n",
       "    <tr>\n",
       "      <th>4</th>\n",
       "      <td>0</td>\n",
       "      <td>0.0</td>\n",
       "      <td>0</td>\n",
       "      <td>0.0</td>\n",
       "      <td>10</td>\n",
       "      <td>627.500000</td>\n",
       "      <td>0.02</td>\n",
       "      <td>0.05</td>\n",
       "      <td>0.0</td>\n",
       "      <td>0.0</td>\n",
       "      <td>Feb</td>\n",
       "      <td>3</td>\n",
       "      <td>3</td>\n",
       "      <td>1</td>\n",
       "      <td>4</td>\n",
       "      <td>1</td>\n",
       "      <td>1</td>\n",
       "      <td>0</td>\n",
       "    </tr>\n",
       "  </tbody>\n",
       "</table>\n",
       "</div>"
      ],
      "text/plain": [
       "   g06_Administrative  g06_Administrative_Duration  g06_Informational  \\\n",
       "0                   0                          0.0                  0   \n",
       "1                   0                          0.0                  0   \n",
       "2                   0                          0.0                  0   \n",
       "3                   0                          0.0                  0   \n",
       "4                   0                          0.0                  0   \n",
       "\n",
       "   g06_Informational_Duration  g06_ProductRelated  \\\n",
       "0                         0.0                   1   \n",
       "1                         0.0                   2   \n",
       "2                         0.0                   1   \n",
       "3                         0.0                   2   \n",
       "4                         0.0                  10   \n",
       "\n",
       "   g06_ProductRelated_Duration  g06_BounceRates  g06_ExitRates  \\\n",
       "0                     0.000000             0.20           0.20   \n",
       "1                    64.000000             0.00           0.10   \n",
       "2                     0.000000             0.20           0.20   \n",
       "3                     2.666667             0.05           0.14   \n",
       "4                   627.500000             0.02           0.05   \n",
       "\n",
       "   g06_PageValues  g06_SpecialDay g06_Month  g06_OperatingSystems  \\\n",
       "0             0.0             0.0       Feb                     1   \n",
       "1             0.0             0.0       Feb                     2   \n",
       "2             0.0             0.0       Feb                     4   \n",
       "3             0.0             0.0       Feb                     3   \n",
       "4             0.0             0.0       Feb                     3   \n",
       "\n",
       "   g06_Browser  g06_Region  g06_TrafficType  g06_VisitorTypeNumeric  \\\n",
       "0            1           1                1                       1   \n",
       "1            2           1                2                       1   \n",
       "2            1           9                3                       1   \n",
       "3            2           2                4                       1   \n",
       "4            3           1                4                       1   \n",
       "\n",
       "   g06_Weekend  g06_Revenue  \n",
       "0            0            0  \n",
       "1            0            0  \n",
       "2            0            0  \n",
       "3            0            0  \n",
       "4            1            0  "
      ]
     },
     "execution_count": 64,
     "metadata": {},
     "output_type": "execute_result"
    }
   ],
   "source": [
    "# change the data type of the column\n",
    "df[\"Weekend\"] = df[\"Weekend\"].astype(int)\n",
    "df[\"Revenue\"] = df[\"Revenue\"].astype(int)\n",
    "\n",
    "# convert the categorical values of the column VisitorType into a numerical representation\n",
    "df.insert(loc=16, column=\"VisitorTypeNumeric\", value=pd.factorize(df['VisitorType'])[0] + 1)\n",
    "\n",
    "df = df.drop('VisitorType', axis=1)\n",
    "\n",
    "# Define a prefix\n",
    "prefix = 'g06_'\n",
    "\n",
    "# Add the prefix to all column names\n",
    "df.columns = [prefix + col for col in df.columns]\n",
    "\n",
    "# display the dataframe\n",
    "df.head()"
   ]
  },
  {
   "cell_type": "code",
   "execution_count": 65,
   "metadata": {},
   "outputs": [],
   "source": [
    "month = {\n",
    "    'Feb': 2,\n",
    "    'Mar': 3,\n",
    "    'May': 5,\n",
    "    'June': 6,\n",
    "    'Jul': 7,\n",
    "    'Aug': 8,\n",
    "    'Sep': 9,\n",
    "    'Oct': 10,\n",
    "    'Nov': 11,\n",
    "    'Dec': 12\n",
    "}\n",
    "\n",
    "df['g06_Month'] = df['g06_Month'].replace(month)"
   ]
  },
  {
   "cell_type": "markdown",
   "metadata": {},
   "source": [
    "### 6.2 Use describe to provide statistics on the pandas Dataframe (2 Points)."
   ]
  },
  {
   "cell_type": "code",
   "execution_count": 66,
   "metadata": {},
   "outputs": [
    {
     "data": {
      "text/html": [
       "<div>\n",
       "<style scoped>\n",
       "    .dataframe tbody tr th:only-of-type {\n",
       "        vertical-align: middle;\n",
       "    }\n",
       "\n",
       "    .dataframe tbody tr th {\n",
       "        vertical-align: top;\n",
       "    }\n",
       "\n",
       "    .dataframe thead th {\n",
       "        text-align: right;\n",
       "    }\n",
       "</style>\n",
       "<table border=\"1\" class=\"dataframe\">\n",
       "  <thead>\n",
       "    <tr style=\"text-align: right;\">\n",
       "      <th></th>\n",
       "      <th>g06_Administrative</th>\n",
       "      <th>g06_Administrative_Duration</th>\n",
       "      <th>g06_Informational</th>\n",
       "      <th>g06_Informational_Duration</th>\n",
       "      <th>g06_ProductRelated</th>\n",
       "      <th>g06_ProductRelated_Duration</th>\n",
       "      <th>g06_BounceRates</th>\n",
       "      <th>g06_ExitRates</th>\n",
       "      <th>g06_PageValues</th>\n",
       "      <th>g06_SpecialDay</th>\n",
       "      <th>g06_Month</th>\n",
       "      <th>g06_OperatingSystems</th>\n",
       "      <th>g06_Browser</th>\n",
       "      <th>g06_Region</th>\n",
       "      <th>g06_TrafficType</th>\n",
       "      <th>g06_VisitorTypeNumeric</th>\n",
       "      <th>g06_Weekend</th>\n",
       "      <th>g06_Revenue</th>\n",
       "    </tr>\n",
       "  </thead>\n",
       "  <tbody>\n",
       "    <tr>\n",
       "      <th>count</th>\n",
       "      <td>12330.000000</td>\n",
       "      <td>12330.000000</td>\n",
       "      <td>12330.000000</td>\n",
       "      <td>12330.000000</td>\n",
       "      <td>12330.000000</td>\n",
       "      <td>12330.000000</td>\n",
       "      <td>12330.000000</td>\n",
       "      <td>12330.000000</td>\n",
       "      <td>12330.000000</td>\n",
       "      <td>12330.000000</td>\n",
       "      <td>12330.000000</td>\n",
       "      <td>12330.000000</td>\n",
       "      <td>12330.000000</td>\n",
       "      <td>12330.000000</td>\n",
       "      <td>12330.000000</td>\n",
       "      <td>12330.000000</td>\n",
       "      <td>12330.000000</td>\n",
       "      <td>12330.000000</td>\n",
       "    </tr>\n",
       "    <tr>\n",
       "      <th>mean</th>\n",
       "      <td>2.315166</td>\n",
       "      <td>80.818611</td>\n",
       "      <td>0.503569</td>\n",
       "      <td>34.472398</td>\n",
       "      <td>31.731468</td>\n",
       "      <td>1194.746220</td>\n",
       "      <td>0.022191</td>\n",
       "      <td>0.043073</td>\n",
       "      <td>5.889258</td>\n",
       "      <td>0.061427</td>\n",
       "      <td>7.651987</td>\n",
       "      <td>2.124006</td>\n",
       "      <td>2.357097</td>\n",
       "      <td>3.147364</td>\n",
       "      <td>4.069586</td>\n",
       "      <td>1.151176</td>\n",
       "      <td>0.232603</td>\n",
       "      <td>0.154745</td>\n",
       "    </tr>\n",
       "    <tr>\n",
       "      <th>std</th>\n",
       "      <td>3.321784</td>\n",
       "      <td>176.779107</td>\n",
       "      <td>1.270156</td>\n",
       "      <td>140.749294</td>\n",
       "      <td>44.475503</td>\n",
       "      <td>1913.669288</td>\n",
       "      <td>0.048488</td>\n",
       "      <td>0.048597</td>\n",
       "      <td>18.568437</td>\n",
       "      <td>0.198917</td>\n",
       "      <td>3.392841</td>\n",
       "      <td>0.911325</td>\n",
       "      <td>1.717277</td>\n",
       "      <td>2.401591</td>\n",
       "      <td>4.025169</td>\n",
       "      <td>0.376989</td>\n",
       "      <td>0.422509</td>\n",
       "      <td>0.361676</td>\n",
       "    </tr>\n",
       "    <tr>\n",
       "      <th>min</th>\n",
       "      <td>0.000000</td>\n",
       "      <td>0.000000</td>\n",
       "      <td>0.000000</td>\n",
       "      <td>0.000000</td>\n",
       "      <td>0.000000</td>\n",
       "      <td>0.000000</td>\n",
       "      <td>0.000000</td>\n",
       "      <td>0.000000</td>\n",
       "      <td>0.000000</td>\n",
       "      <td>0.000000</td>\n",
       "      <td>2.000000</td>\n",
       "      <td>1.000000</td>\n",
       "      <td>1.000000</td>\n",
       "      <td>1.000000</td>\n",
       "      <td>1.000000</td>\n",
       "      <td>1.000000</td>\n",
       "      <td>0.000000</td>\n",
       "      <td>0.000000</td>\n",
       "    </tr>\n",
       "    <tr>\n",
       "      <th>25%</th>\n",
       "      <td>0.000000</td>\n",
       "      <td>0.000000</td>\n",
       "      <td>0.000000</td>\n",
       "      <td>0.000000</td>\n",
       "      <td>7.000000</td>\n",
       "      <td>184.137500</td>\n",
       "      <td>0.000000</td>\n",
       "      <td>0.014286</td>\n",
       "      <td>0.000000</td>\n",
       "      <td>0.000000</td>\n",
       "      <td>5.000000</td>\n",
       "      <td>2.000000</td>\n",
       "      <td>2.000000</td>\n",
       "      <td>1.000000</td>\n",
       "      <td>2.000000</td>\n",
       "      <td>1.000000</td>\n",
       "      <td>0.000000</td>\n",
       "      <td>0.000000</td>\n",
       "    </tr>\n",
       "    <tr>\n",
       "      <th>50%</th>\n",
       "      <td>1.000000</td>\n",
       "      <td>7.500000</td>\n",
       "      <td>0.000000</td>\n",
       "      <td>0.000000</td>\n",
       "      <td>18.000000</td>\n",
       "      <td>598.936905</td>\n",
       "      <td>0.003112</td>\n",
       "      <td>0.025156</td>\n",
       "      <td>0.000000</td>\n",
       "      <td>0.000000</td>\n",
       "      <td>7.000000</td>\n",
       "      <td>2.000000</td>\n",
       "      <td>2.000000</td>\n",
       "      <td>3.000000</td>\n",
       "      <td>2.000000</td>\n",
       "      <td>1.000000</td>\n",
       "      <td>0.000000</td>\n",
       "      <td>0.000000</td>\n",
       "    </tr>\n",
       "    <tr>\n",
       "      <th>75%</th>\n",
       "      <td>4.000000</td>\n",
       "      <td>93.256250</td>\n",
       "      <td>0.000000</td>\n",
       "      <td>0.000000</td>\n",
       "      <td>38.000000</td>\n",
       "      <td>1464.157214</td>\n",
       "      <td>0.016813</td>\n",
       "      <td>0.050000</td>\n",
       "      <td>0.000000</td>\n",
       "      <td>0.000000</td>\n",
       "      <td>11.000000</td>\n",
       "      <td>3.000000</td>\n",
       "      <td>2.000000</td>\n",
       "      <td>4.000000</td>\n",
       "      <td>4.000000</td>\n",
       "      <td>1.000000</td>\n",
       "      <td>0.000000</td>\n",
       "      <td>0.000000</td>\n",
       "    </tr>\n",
       "    <tr>\n",
       "      <th>max</th>\n",
       "      <td>27.000000</td>\n",
       "      <td>3398.750000</td>\n",
       "      <td>24.000000</td>\n",
       "      <td>2549.375000</td>\n",
       "      <td>705.000000</td>\n",
       "      <td>63973.522230</td>\n",
       "      <td>0.200000</td>\n",
       "      <td>0.200000</td>\n",
       "      <td>361.763742</td>\n",
       "      <td>1.000000</td>\n",
       "      <td>12.000000</td>\n",
       "      <td>8.000000</td>\n",
       "      <td>13.000000</td>\n",
       "      <td>9.000000</td>\n",
       "      <td>20.000000</td>\n",
       "      <td>3.000000</td>\n",
       "      <td>1.000000</td>\n",
       "      <td>1.000000</td>\n",
       "    </tr>\n",
       "  </tbody>\n",
       "</table>\n",
       "</div>"
      ],
      "text/plain": [
       "       g06_Administrative  g06_Administrative_Duration  g06_Informational  \\\n",
       "count        12330.000000                 12330.000000       12330.000000   \n",
       "mean             2.315166                    80.818611           0.503569   \n",
       "std              3.321784                   176.779107           1.270156   \n",
       "min              0.000000                     0.000000           0.000000   \n",
       "25%              0.000000                     0.000000           0.000000   \n",
       "50%              1.000000                     7.500000           0.000000   \n",
       "75%              4.000000                    93.256250           0.000000   \n",
       "max             27.000000                  3398.750000          24.000000   \n",
       "\n",
       "       g06_Informational_Duration  g06_ProductRelated  \\\n",
       "count                12330.000000        12330.000000   \n",
       "mean                    34.472398           31.731468   \n",
       "std                    140.749294           44.475503   \n",
       "min                      0.000000            0.000000   \n",
       "25%                      0.000000            7.000000   \n",
       "50%                      0.000000           18.000000   \n",
       "75%                      0.000000           38.000000   \n",
       "max                   2549.375000          705.000000   \n",
       "\n",
       "       g06_ProductRelated_Duration  g06_BounceRates  g06_ExitRates  \\\n",
       "count                 12330.000000     12330.000000   12330.000000   \n",
       "mean                   1194.746220         0.022191       0.043073   \n",
       "std                    1913.669288         0.048488       0.048597   \n",
       "min                       0.000000         0.000000       0.000000   \n",
       "25%                     184.137500         0.000000       0.014286   \n",
       "50%                     598.936905         0.003112       0.025156   \n",
       "75%                    1464.157214         0.016813       0.050000   \n",
       "max                   63973.522230         0.200000       0.200000   \n",
       "\n",
       "       g06_PageValues  g06_SpecialDay     g06_Month  g06_OperatingSystems  \\\n",
       "count    12330.000000    12330.000000  12330.000000          12330.000000   \n",
       "mean         5.889258        0.061427      7.651987              2.124006   \n",
       "std         18.568437        0.198917      3.392841              0.911325   \n",
       "min          0.000000        0.000000      2.000000              1.000000   \n",
       "25%          0.000000        0.000000      5.000000              2.000000   \n",
       "50%          0.000000        0.000000      7.000000              2.000000   \n",
       "75%          0.000000        0.000000     11.000000              3.000000   \n",
       "max        361.763742        1.000000     12.000000              8.000000   \n",
       "\n",
       "        g06_Browser    g06_Region  g06_TrafficType  g06_VisitorTypeNumeric  \\\n",
       "count  12330.000000  12330.000000     12330.000000            12330.000000   \n",
       "mean       2.357097      3.147364         4.069586                1.151176   \n",
       "std        1.717277      2.401591         4.025169                0.376989   \n",
       "min        1.000000      1.000000         1.000000                1.000000   \n",
       "25%        2.000000      1.000000         2.000000                1.000000   \n",
       "50%        2.000000      3.000000         2.000000                1.000000   \n",
       "75%        2.000000      4.000000         4.000000                1.000000   \n",
       "max       13.000000      9.000000        20.000000                3.000000   \n",
       "\n",
       "        g06_Weekend   g06_Revenue  \n",
       "count  12330.000000  12330.000000  \n",
       "mean       0.232603      0.154745  \n",
       "std        0.422509      0.361676  \n",
       "min        0.000000      0.000000  \n",
       "25%        0.000000      0.000000  \n",
       "50%        0.000000      0.000000  \n",
       "75%        0.000000      0.000000  \n",
       "max        1.000000      1.000000  "
      ]
     },
     "execution_count": 66,
     "metadata": {},
     "output_type": "execute_result"
    }
   ],
   "source": [
    "df.describe()"
   ]
  },
  {
   "cell_type": "markdown",
   "metadata": {},
   "source": [
    "### 6.3 Split the dataset into a Training set and a Test set. Justify your preferred split (3 Points)"
   ]
  },
  {
   "cell_type": "code",
   "execution_count": 15,
   "metadata": {},
   "outputs": [],
   "source": [
    "X = df.loc[:, df.columns != 'g06_Revenue'].to_numpy()\n",
    "y = df.iloc[:,-1:].to_numpy()\n",
    "\n",
    "X_train, X_test, y_train, y_test = train_test_split(X, y, test_size=0.20, random_state=8649)"
   ]
  },
  {
   "cell_type": "code",
   "execution_count": 107,
   "metadata": {},
   "outputs": [
    {
     "name": "stdout",
     "output_type": "stream",
     "text": [
      "(9864, 17)\n",
      "(9864,)\n",
      "(2466, 17)\n",
      "(2466,)\n"
     ]
    }
   ],
   "source": [
    "print(X_train.shape)\n",
    "print(y_train.shape)\n",
    "print(X_test.shape)\n",
    "print(y_test.shape)"
   ]
  },
  {
   "cell_type": "markdown",
   "metadata": {},
   "source": [
    "We use the traditional 80-20 splitting ratio. There are 2466 observations in the test dataset, which are enough for model testing."
   ]
  },
  {
   "cell_type": "markdown",
   "metadata": {},
   "source": [
    "## 7. Classification Routine (12 Points)"
   ]
  },
  {
   "cell_type": "markdown",
   "metadata": {},
   "source": [
    "### 7.1 RandomForestClassifier()"
   ]
  },
  {
   "cell_type": "code",
   "execution_count": 67,
   "metadata": {},
   "outputs": [],
   "source": [
    "rf_clf = RandomForestClassifier(n_estimators=100, random_state=0)"
   ]
  },
  {
   "cell_type": "code",
   "execution_count": 68,
   "metadata": {},
   "outputs": [],
   "source": [
    "rf_fit = rf_clf.fit(X_train, y_train)"
   ]
  },
  {
   "cell_type": "code",
   "execution_count": 69,
   "metadata": {},
   "outputs": [],
   "source": [
    "y_pred = rf_fit.predict(X_test)"
   ]
  },
  {
   "cell_type": "code",
   "execution_count": 70,
   "metadata": {},
   "outputs": [],
   "source": [
    "rf_accu = accuracy_score(y_test, y_pred)"
   ]
  },
  {
   "cell_type": "code",
   "execution_count": 71,
   "metadata": {},
   "outputs": [
    {
     "name": "stdout",
     "output_type": "stream",
     "text": [
      "0.9095701540957015\n"
     ]
    }
   ],
   "source": [
    "print(rf_accu)"
   ]
  },
  {
   "cell_type": "code",
   "execution_count": 72,
   "metadata": {},
   "outputs": [
    {
     "data": {
      "text/plain": [
       "<sklearn.metrics._plot.confusion_matrix.ConfusionMatrixDisplay at 0x2897f3510>"
      ]
     },
     "execution_count": 72,
     "metadata": {},
     "output_type": "execute_result"
    },
    {
     "data": {
      "text/plain": [
       "<Figure size 500x500 with 0 Axes>"
      ]
     },
     "metadata": {},
     "output_type": "display_data"
    },
    {
     "data": {
      "image/png": "[encoded data removed]",
      "text/plain": [
       "<Figure size 640x480 with 2 Axes>"
      ]
     },
     "metadata": {},
     "output_type": "display_data"
    }
   ],
   "source": [
    "\n",
    "plt.figure(figsize=(5,5))\n",
    "set_palette(\"Set2\")\n",
    "\n",
    "conf_matrix = confusion_matrix(y_test, y_pred)\n",
    "ConfusionMatrixDisplay.from_estimator(rf_fit, X_test, y_test)"
   ]
  },
  {
   "cell_type": "markdown",
   "metadata": {},
   "source": [
    "From the confusion matrix above, we can see that true positive prediction is 2026, which means that 2026 data points are correctly predicted as positive and similarly, 216 labels are correctly predicted as negative. Give the high accuracy score of 0.909, such result makes sense. This disparity is caused by the imbalance of the target variable"
   ]
  },
  {
   "cell_type": "markdown",
   "metadata": {},
   "source": [
    "### 7.2 BaggingClassifier()"
   ]
  },
  {
   "cell_type": "code",
   "execution_count": 73,
   "metadata": {},
   "outputs": [],
   "source": [
    "bag_clf = BaggingClassifier(n_estimators=10, random_state=0)"
   ]
  },
  {
   "cell_type": "code",
   "execution_count": 74,
   "metadata": {},
   "outputs": [],
   "source": [
    "bag_fit = bag_clf.fit(X_train, y_train)"
   ]
  },
  {
   "cell_type": "code",
   "execution_count": 75,
   "metadata": {},
   "outputs": [],
   "source": [
    "y_pred_bag = bag_fit.predict(X_test)"
   ]
  },
  {
   "cell_type": "code",
   "execution_count": 76,
   "metadata": {},
   "outputs": [],
   "source": [
    "bag_accu = accuracy_score(y_test, y_pred_bag)"
   ]
  },
  {
   "cell_type": "code",
   "execution_count": 77,
   "metadata": {},
   "outputs": [
    {
     "name": "stdout",
     "output_type": "stream",
     "text": [
      "0.8961881589618816\n"
     ]
    }
   ],
   "source": [
    "print(bag_accu)"
   ]
  },
  {
   "cell_type": "code",
   "execution_count": 78,
   "metadata": {},
   "outputs": [
    {
     "data": {
      "text/plain": [
       "<sklearn.metrics._plot.confusion_matrix.ConfusionMatrixDisplay at 0x2af8bf810>"
      ]
     },
     "execution_count": 78,
     "metadata": {},
     "output_type": "execute_result"
    },
    {
     "data": {
      "text/plain": [
       "<Figure size 500x500 with 0 Axes>"
      ]
     },
     "metadata": {},
     "output_type": "display_data"
    },
    {
     "data": {
      "image/png": "[encoded data removed]",
      "text/plain": [
       "<Figure size 640x480 with 2 Axes>"
      ]
     },
     "metadata": {},
     "output_type": "display_data"
    }
   ],
   "source": [
    "plt.figure(figsize=(5,5))\n",
    "set_palette(\"Set2\")\n",
    "\n",
    "conf_matrix = confusion_matrix(y_test, y_pred_bag)\n",
    "ConfusionMatrixDisplay.from_estimator(bag_fit, X_test, y_test)"
   ]
  },
  {
   "cell_type": "markdown",
   "metadata": {},
   "source": [
    "We can see that bagging classifier has a similar accuracy score as random forest classifier"
   ]
  },
  {
   "cell_type": "markdown",
   "metadata": {},
   "source": [
    "### 7.3 XGboostclassifier()"
   ]
  },
  {
   "cell_type": "code",
   "execution_count": 91,
   "metadata": {},
   "outputs": [],
   "source": [
    "xg_clf = XGBClassifier(tree_method=\"hist\", n_estimators=10)"
   ]
  },
  {
   "cell_type": "code",
   "execution_count": 92,
   "metadata": {},
   "outputs": [],
   "source": [
    "xg_fit = xg_clf.fit(X_train, y_train)"
   ]
  },
  {
   "cell_type": "code",
   "execution_count": 93,
   "metadata": {},
   "outputs": [],
   "source": [
    "y_pred_xg = xg_fit.predict(X_test)"
   ]
  },
  {
   "cell_type": "code",
   "execution_count": 94,
   "metadata": {},
   "outputs": [],
   "source": [
    "xg_accu = accuracy_score(y_test, y_pred_xg)"
   ]
  },
  {
   "cell_type": "code",
   "execution_count": 104,
   "metadata": {},
   "outputs": [
    {
     "name": "stdout",
     "output_type": "stream",
     "text": [
      "0.9051094890510949\n"
     ]
    }
   ],
   "source": [
    "print(xg_accu)"
   ]
  },
  {
   "cell_type": "code",
   "execution_count": 95,
   "metadata": {
    "scrolled": false
   },
   "outputs": [
    {
     "data": {
      "text/plain": [
       "<sklearn.metrics._plot.confusion_matrix.ConfusionMatrixDisplay at 0x2c9b03b50>"
      ]
     },
     "execution_count": 95,
     "metadata": {},
     "output_type": "execute_result"
    },
    {
     "data": {
      "text/plain": [
       "<Figure size 500x500 with 0 Axes>"
      ]
     },
     "metadata": {},
     "output_type": "display_data"
    },
    {
     "data": {
      "image/png": "[encoded data removed]",
      "text/plain": [
       "<Figure size 640x480 with 2 Axes>"
      ]
     },
     "metadata": {},
     "output_type": "display_data"
    }
   ],
   "source": [
    "plt.figure(figsize=(5,5))\n",
    "set_palette(\"Set2\")\n",
    "\n",
    "conf_matrix = confusion_matrix(y_test, y_pred_xg)\n",
    "ConfusionMatrixDisplay.from_estimator(xg_fit, X_test, y_test)"
   ]
  },
  {
   "cell_type": "markdown",
   "metadata": {},
   "source": [
    "We can see that XGBoost classifier has a similar accuracy score as random forest and Bagging classifier"
   ]
  },
  {
   "cell_type": "markdown",
   "metadata": {},
   "source": [
    "## 8. Classification with GridSearchCV (8 Points):"
   ]
  },
  {
   "cell_type": "code",
   "execution_count": 53,
   "metadata": {},
   "outputs": [],
   "source": [
    "# Define the classifiers and parameter space\n",
    "classifiers = [\n",
    "    ('RandomForest', RandomForestClassifier(), {\n",
    "        'n_estimators': [50, 100, 200],\n",
    "        'max_depth': [None, 10, 20],\n",
    "    }),\n",
    "    ('Bagging', BaggingClassifier(estimator=RandomForestClassifier()), {\n",
    "        'n_estimators': [10, 50, 100],\n",
    "    }),\n",
    "    ('XGBoost', XGBClassifier(), {\n",
    "        'n_estimators': [50, 100, 200],\n",
    "        'max_depth': [4, 6, 8],\n",
    "    }),\n",
    "]"
   ]
  },
  {
   "cell_type": "code",
   "execution_count": 54,
   "metadata": {},
   "outputs": [],
   "source": [
    "best_models = {}\n",
    "best_accuracies = []"
   ]
  },
  {
   "cell_type": "code",
   "execution_count": 55,
   "metadata": {},
   "outputs": [],
   "source": [
    "# Change the y_train and y_test to 1d array\n",
    "y_train = y_train.ravel()\n",
    "y_test = y_test.ravel()"
   ]
  },
  {
   "cell_type": "code",
   "execution_count": 58,
   "metadata": {},
   "outputs": [
    {
     "name": "stdout",
     "output_type": "stream",
     "text": [
      "Fitting 10 folds for each of 9 candidates, totalling 90 fits\n",
      "Fitting 10 folds for each of 3 candidates, totalling 30 fits\n",
      "[CV] END ....................max_depth=None, n_estimators=50; total time=   0.5s\n",
      "[CV] END ....................max_depth=None, n_estimators=50; total time=   0.7s\n",
      "[CV] END ...................max_depth=None, n_estimators=100; total time=   1.1s\n",
      "[CV] END ...................max_depth=None, n_estimators=200; total time=   2.2s\n",
      "[CV] END ......................max_depth=10, n_estimators=50; total time=   0.4s\n",
      "[CV] END ......................max_depth=10, n_estimators=50; total time=   0.4s\n",
      "[CV] END .....................max_depth=10, n_estimators=100; total time=   0.9s\n",
      "[CV] END .....................max_depth=10, n_estimators=200; total time=   1.8s\n",
      "[CV] END .....................max_depth=10, n_estimators=200; total time=   1.8s\n",
      "[CV] END .....................max_depth=20, n_estimators=100; total time=   1.1s\n",
      "[CV] END .....................max_depth=20, n_estimators=200; total time=   2.2s\n",
      "[CV] END ....................................n_estimators=10; total time=   7.6s\n",
      "[CV] END ....................................n_estimators=50; total time=  38.6s\n",
      "[CV] END ....................max_depth=None, n_estimators=50; total time=   0.6s\n",
      "[CV] END ...................max_depth=None, n_estimators=100; total time=   1.1s\n",
      "[CV] END ...................max_depth=None, n_estimators=200; total time=   2.2s\n",
      "[CV] END ...................max_depth=None, n_estimators=200; total time=   2.1s\n",
      "[CV] END .....................max_depth=10, n_estimators=100; total time=   0.9s\n",
      "[CV] END .....................max_depth=10, n_estimators=200; total time=   1.8s\n",
      "[CV] END ......................max_depth=20, n_estimators=50; total time=   0.5s\n",
      "[CV] END ......................max_depth=20, n_estimators=50; total time=   0.6s\n",
      "[CV] END .....................max_depth=20, n_estimators=100; total time=   1.2s\n",
      "[CV] END .....................max_depth=20, n_estimators=200; total time=   2.2s\n",
      "[CV] END ....................................n_estimators=10; total time=   7.5s\n",
      "[CV] END ....................................n_estimators=50; total time=  38.7s\n",
      "[CV] END ....................max_depth=None, n_estimators=50; total time=   0.6s\n",
      "[CV] END ...................max_depth=None, n_estimators=100; total time=   1.2s\n",
      "[CV] END ...................max_depth=None, n_estimators=200; total time=   2.3s\n",
      "[CV] END ......................max_depth=10, n_estimators=50; total time=   0.5s\n",
      "[CV] END ......................max_depth=10, n_estimators=50; total time=   0.5s\n",
      "[CV] END ......................max_depth=10, n_estimators=50; total time=   0.5s\n",
      "[CV] END .....................max_depth=10, n_estimators=100; total time=   0.9s\n",
      "[CV] END .....................max_depth=10, n_estimators=200; total time=   1.8s\n",
      "[CV] END .....................max_depth=10, n_estimators=200; total time=   1.8s\n",
      "[CV] END .....................max_depth=20, n_estimators=100; total time=   1.2s\n",
      "[CV] END .....................max_depth=20, n_estimators=200; total time=   2.2s\n",
      "[CV] END ....................................n_estimators=10; total time=   7.6s\n",
      "[CV] END ....................................n_estimators=50; total time=  38.8s\n",
      "[CV] END ....................max_depth=None, n_estimators=50; total time=   0.6s\n",
      "[CV] END ...................max_depth=None, n_estimators=100; total time=   1.1s\n",
      "[CV] END ...................max_depth=None, n_estimators=200; total time=   2.3s\n",
      "[CV] END ...................max_depth=None, n_estimators=200; total time=   2.2s\n",
      "[CV] END .....................max_depth=10, n_estimators=100; total time=   0.9s\n",
      "[CV] END .....................max_depth=10, n_estimators=200; total time=   1.9s\n",
      "[CV] END ......................max_depth=20, n_estimators=50; total time=   0.5s\n",
      "[CV] END .....................max_depth=20, n_estimators=100; total time=   1.1s\n",
      "[CV] END .....................max_depth=20, n_estimators=200; total time=   2.3s\n",
      "[CV] END .....................max_depth=20, n_estimators=200; total time=   1.9s\n",
      "[CV] END ....................................n_estimators=10; total time=   7.6s\n",
      "[CV] END ....................................n_estimators=50; total time=  38.8s\n",
      "[CV] END ....................max_depth=None, n_estimators=50; total time=   0.6s\n",
      "[CV] END ...................max_depth=None, n_estimators=100; total time=   1.2s\n",
      "[CV] END ...................max_depth=None, n_estimators=200; total time=   2.3s\n",
      "[CV] END ......................max_depth=10, n_estimators=50; total time=   0.5s\n",
      "[CV] END ......................max_depth=10, n_estimators=50; total time=   0.5s\n",
      "[CV] END .....................max_depth=10, n_estimators=100; total time=   1.0s\n",
      "[CV] END .....................max_depth=10, n_estimators=100; total time=   0.9s\n",
      "[CV] END .....................max_depth=10, n_estimators=200; total time=   1.9s\n",
      "[CV] END ......................max_depth=20, n_estimators=50; total time=   0.6s\n",
      "[CV] END .....................max_depth=20, n_estimators=100; total time=   1.1s\n",
      "[CV] END .....................max_depth=20, n_estimators=100; total time=   1.1s\n",
      "[CV] END .....................max_depth=20, n_estimators=200; total time=   2.2s\n",
      "[CV] END ....................................n_estimators=10; total time=   7.6s\n",
      "[CV] END ....................................n_estimators=50; total time=  38.9s\n",
      "[CV] END ....................max_depth=None, n_estimators=50; total time=   0.6s\n",
      "[CV] END ...................max_depth=None, n_estimators=100; total time=   1.1s\n",
      "[CV] END ...................max_depth=None, n_estimators=100; total time=   1.1s\n",
      "[CV] END ...................max_depth=None, n_estimators=200; total time=   2.3s\n",
      "[CV] END .....................max_depth=10, n_estimators=100; total time=   1.0s\n",
      "[CV] END .....................max_depth=10, n_estimators=100; total time=   0.9s\n",
      "[CV] END .....................max_depth=10, n_estimators=200; total time=   1.8s\n",
      "[CV] END ......................max_depth=20, n_estimators=50; total time=   0.6s\n",
      "[CV] END .....................max_depth=20, n_estimators=100; total time=   1.1s\n",
      "[CV] END .....................max_depth=20, n_estimators=100; total time=   1.1s\n",
      "[CV] END .....................max_depth=20, n_estimators=200; total time=   2.2s\n",
      "[CV] END ....................................n_estimators=10; total time=   7.5s\n",
      "[CV] END ....................................n_estimators=50; total time=  39.0s\n",
      "[CV] END ....................max_depth=None, n_estimators=50; total time=   0.6s\n",
      "[CV] END ....................max_depth=None, n_estimators=50; total time=   0.6s\n",
      "[CV] END ...................max_depth=None, n_estimators=100; total time=   1.1s\n",
      "[CV] END ...................max_depth=None, n_estimators=200; total time=   2.2s\n",
      "[CV] END ......................max_depth=10, n_estimators=50; total time=   0.5s\n",
      "[CV] END ......................max_depth=10, n_estimators=50; total time=   0.4s\n",
      "[CV] END .....................max_depth=10, n_estimators=100; total time=   0.9s\n",
      "[CV] END .....................max_depth=10, n_estimators=200; total time=   1.9s\n",
      "[CV] END ......................max_depth=20, n_estimators=50; total time=   0.5s\n",
      "[CV] END ......................max_depth=20, n_estimators=50; total time=   0.6s\n",
      "[CV] END ......................max_depth=20, n_estimators=50; total time=   0.6s\n",
      "[CV] END .....................max_depth=20, n_estimators=100; total time=   1.2s\n",
      "[CV] END .....................max_depth=20, n_estimators=200; total time=   2.2s\n",
      "[CV] END ....................................n_estimators=10; total time=   7.5s\n",
      "[CV] END ....................................n_estimators=10; total time=   7.5s\n",
      "[CV] END ....................................n_estimators=50; total time=  38.4s\n",
      "[CV] END ....................max_depth=None, n_estimators=50; total time=   0.6s\n",
      "[CV] END ...................max_depth=None, n_estimators=100; total time=   1.0s\n",
      "[CV] END ...................max_depth=None, n_estimators=100; total time=   1.1s\n",
      "[CV] END ...................max_depth=None, n_estimators=200; total time=   2.3s\n",
      "[CV] END ......................max_depth=10, n_estimators=50; total time=   0.4s\n",
      "[CV] END .....................max_depth=10, n_estimators=100; total time=   0.9s\n",
      "[CV] END .....................max_depth=10, n_estimators=200; total time=   1.8s\n",
      "[CV] END ......................max_depth=20, n_estimators=50; total time=   0.5s\n",
      "[CV] END ......................max_depth=20, n_estimators=50; total time=   0.6s\n",
      "[CV] END .....................max_depth=20, n_estimators=100; total time=   1.1s\n",
      "[CV] END .....................max_depth=20, n_estimators=200; total time=   2.3s\n",
      "[CV] END .....................max_depth=20, n_estimators=200; total time=   1.9s\n",
      "[CV] END ....................................n_estimators=10; total time=   7.5s\n",
      "[CV] END ....................................n_estimators=10; total time=   7.5s\n",
      "[CV] END ....................................n_estimators=50; total time=  38.6s\n"
     ]
    },
    {
     "name": "stdout",
     "output_type": "stream",
     "text": [
      "[CV] END ....................................n_estimators=50; total time=  38.1s\n",
      "[CV] END ...................................n_estimators=100; total time= 1.1min\n",
      "[CV] END ....................................n_estimators=50; total time=  38.3s\n",
      "[CV] END ...................................n_estimators=100; total time= 1.2min\n",
      "Fitting 10 folds for each of 9 candidates, totalling 90 fits\n"
     ]
    }
   ],
   "source": [
    "# Perform GridSearchCV for each classifier\n",
    "for name, clf, param_grid in classifiers:\n",
    "    grid_search = GridSearchCV(clf, param_grid=param_grid, cv=10, n_jobs=-1, verbose=2)\n",
    "    grid_search.fit(X_train, y_train)\n",
    "    best_model = grid_search.best_estimator_\n",
    "    best_models[name] = best_model\n",
    "    y_pred = best_model.predict(X_test)\n",
    "    accuracy = accuracy_score(y_test, y_pred)\n",
    "    best_accuracies.append((name, accuracy))"
   ]
  },
  {
   "cell_type": "code",
   "execution_count": 59,
   "metadata": {},
   "outputs": [
    {
     "name": "stdout",
     "output_type": "stream",
     "text": [
      "Accuracy of best RandomForest: 0.9103811841038119\n",
      "Accuracy of best Bagging: 0.9063260340632603\n",
      "Accuracy of best XGBoost: 0.9083536090835361\n"
     ]
    }
   ],
   "source": [
    "for result in best_accuracies:\n",
    "    print(f\"Accuracy of best {result[0]}: {result[1]}\")"
   ]
  },
  {
   "cell_type": "code",
   "execution_count": 61,
   "metadata": {
    "scrolled": true
   },
   "outputs": [
    {
     "name": "stdout",
     "output_type": "stream",
     "text": [
      "-----------------------------------\n",
      "Confusion Matrix of RandomForest:\n",
      "[[2025   53]\n",
      " [ 168  220]]\n",
      "Accuracy Score: 0.9103811841038119\n",
      "-----------------------------------\n",
      "Confusion Matrix of Bagging:\n",
      "[[2022   56]\n",
      " [ 175  213]]\n",
      "Accuracy Score: 0.9063260340632603\n",
      "-----------------------------------\n",
      "Confusion Matrix of XGBoost:\n",
      "[[2003   75]\n",
      " [ 151  237]]\n",
      "Accuracy Score: 0.9083536090835361\n",
      "-----------------------------------\n"
     ]
    }
   ],
   "source": [
    "print('-----------------------------------')\n",
    "for key, model in best_models.items():\n",
    "    y_pred = model.predict(X_test)\n",
    "    print(f'Confusion Matrix of {key}:')\n",
    "    print(confusion_matrix(y_test, y_pred))\n",
    "    print(f'Accuracy Score: {accuracy_score(y_test, y_pred)}')\n",
    "    print('-----------------------------------')"
   ]
  },
  {
   "cell_type": "markdown",
   "metadata": {},
   "source": [
    "The parameters of best models:"
   ]
  },
  {
   "cell_type": "code",
   "execution_count": 105,
   "metadata": {},
   "outputs": [
    {
     "data": {
      "text/plain": [
       "{'RandomForest': RandomForestClassifier(n_estimators=200),\n",
       " 'Bagging': BaggingClassifier(estimator=RandomForestClassifier(), n_estimators=100),\n",
       " 'XGBoost': XGBClassifier(base_score=None, booster=None, callbacks=None,\n",
       "               colsample_bylevel=None, colsample_bynode=None,\n",
       "               colsample_bytree=None, device=None, early_stopping_rounds=None,\n",
       "               enable_categorical=False, eval_metric=None, feature_types=None,\n",
       "               gamma=None, grow_policy=None, importance_type=None,\n",
       "               interaction_constraints=None, learning_rate=None, max_bin=None,\n",
       "               max_cat_threshold=None, max_cat_to_onehot=None,\n",
       "               max_delta_step=None, max_depth=4, max_leaves=None,\n",
       "               min_child_weight=None, missing=nan, monotone_constraints=None,\n",
       "               multi_strategy=None, n_estimators=50, n_jobs=None,\n",
       "               num_parallel_tree=None, random_state=None, ...)}"
      ]
     },
     "execution_count": 105,
     "metadata": {},
     "output_type": "execute_result"
    }
   ],
   "source": [
    "best_models"
   ]
  },
  {
   "cell_type": "markdown",
   "metadata": {},
   "source": [
    "According to the results above, we can observe that all the 3 best models chose by gridsearch process have relatively good accuracy that larger than 0.9. Among these 3 models, RandomForest Classifier performs best, with an accuracy of 0.9104"
   ]
  },
  {
   "cell_type": "markdown",
   "metadata": {},
   "source": [
    "## 9. Classification with RandomSearchCV (8 Points):"
   ]
  },
  {
   "cell_type": "code",
   "execution_count": 99,
   "metadata": {},
   "outputs": [],
   "source": [
    "# Define the classifiers\n",
    "classifiers = [\n",
    "    ('RandomForest', RandomForestClassifier(), {\n",
    "        'n_estimators': [50, 100, 200],\n",
    "        'max_depth': [None, 10, 20],\n",
    "    }),\n",
    "    ('Bagging', BaggingClassifier(estimator=RandomForestClassifier()), {\n",
    "        'n_estimators': [10, 50, 100],\n",
    "    }),\n",
    "    ('XGBoost', XGBClassifier(), {\n",
    "        'n_estimators': [50, 100, 200],\n",
    "        'max_depth': [4, 6, 8],\n",
    "    }),\n",
    "]"
   ]
  },
  {
   "cell_type": "code",
   "execution_count": 100,
   "metadata": {},
   "outputs": [],
   "source": [
    "# Store the best models and their accuracy scores\n",
    "best_models = {}\n",
    "best_accuracies = []\n",
    "\n",
    "# Perform RandomizedSearchCV for each classifier\n",
    "for name, clf, param_dist in classifiers:\n",
    "    random_search = RandomizedSearchCV(clf, param_distributions=param_dist, n_iter=9, cv=5, n_jobs=-1)\n",
    "    random_search.fit(X_train, y_train)\n",
    "    best_model = random_search.best_estimator_\n",
    "    best_models[name] = best_model\n",
    "    y_pred = best_model.predict(X_test)\n",
    "    accuracy = accuracy_score(y_test, y_pred)\n",
    "    best_accuracies.append((name, accuracy))"
   ]
  },
  {
   "cell_type": "code",
   "execution_count": 102,
   "metadata": {},
   "outputs": [
    {
     "name": "stdout",
     "output_type": "stream",
     "text": [
      "Accuracy of best RandomForest: 0.9087591240875912\n",
      "Accuracy of best Bagging: 0.9075425790754258\n",
      "Accuracy of best XGBoost: 0.9083536090835361\n"
     ]
    }
   ],
   "source": [
    "best_accuracies\n",
    "for model in best_accuracies:\n",
    "    print(f\"Accuracy of best {model[0]}: {model[1]}\")"
   ]
  },
  {
   "cell_type": "code",
   "execution_count": 103,
   "metadata": {},
   "outputs": [
    {
     "name": "stdout",
     "output_type": "stream",
     "text": [
      "-----------------------------------\n",
      "Confusion Matrix of RandomForest:\n",
      "[[2019   59]\n",
      " [ 166  222]]\n",
      "Accuracy Score: 0.9087591240875912\n",
      "-----------------------------------\n",
      "Confusion Matrix of Bagging:\n",
      "[[2023   55]\n",
      " [ 173  215]]\n",
      "Accuracy Score: 0.9075425790754258\n",
      "-----------------------------------\n",
      "Confusion Matrix of XGBoost:\n",
      "[[2003   75]\n",
      " [ 151  237]]\n",
      "Accuracy Score: 0.9083536090835361\n",
      "-----------------------------------\n"
     ]
    }
   ],
   "source": [
    "print('-----------------------------------')\n",
    "for key, model in best_models.items():\n",
    "    y_pred = model.predict(X_test)\n",
    "    print(f'Confusion Matrix of {key}:')\n",
    "    print(confusion_matrix(y_test, y_pred))\n",
    "    print(f'Accuracy Score: {accuracy_score(y_test, y_pred)}')\n",
    "    print('-----------------------------------')"
   ]
  },
  {
   "cell_type": "markdown",
   "metadata": {},
   "source": [
    "The parameters of best models:"
   ]
  },
  {
   "cell_type": "code",
   "execution_count": 105,
   "metadata": {},
   "outputs": [
    {
     "data": {
      "text/plain": [
       "{'RandomForest': RandomForestClassifier(n_estimators=200),\n",
       " 'Bagging': BaggingClassifier(estimator=RandomForestClassifier(), n_estimators=100),\n",
       " 'XGBoost': XGBClassifier(base_score=None, booster=None, callbacks=None,\n",
       "               colsample_bylevel=None, colsample_bynode=None,\n",
       "               colsample_bytree=None, device=None, early_stopping_rounds=None,\n",
       "               enable_categorical=False, eval_metric=None, feature_types=None,\n",
       "               gamma=None, grow_policy=None, importance_type=None,\n",
       "               interaction_constraints=None, learning_rate=None, max_bin=None,\n",
       "               max_cat_threshold=None, max_cat_to_onehot=None,\n",
       "               max_delta_step=None, max_depth=4, max_leaves=None,\n",
       "               min_child_weight=None, missing=nan, monotone_constraints=None,\n",
       "               multi_strategy=None, n_estimators=50, n_jobs=None,\n",
       "               num_parallel_tree=None, random_state=None, ...)}"
      ]
     },
     "execution_count": 105,
     "metadata": {},
     "output_type": "execute_result"
    }
   ],
   "source": [
    "best_models"
   ]
  },
  {
   "cell_type": "markdown",
   "metadata": {},
   "source": [
    "According to the results above, we can observe that all the 3 best models chose by random search process have relatively good accuracy that larger than 0.9. Among these 3 models, RandomForest Classifier performs best, with an accuracy of 0.9088"
   ]
  },
  {
   "cell_type": "markdown",
   "metadata": {},
   "source": [
    "## 10. Comparison and Analysis (5 Points):"
   ]
  },
  {
   "cell_type": "markdown",
   "metadata": {},
   "source": [
    "| | RandomForest | Bagging | XGBoost |\n",
    "|----------|----------|----------|----------|\n",
    "| Routine | 0.9096 | 0.8962 | 0.9051 |\n",
    "| Grid Search | 0.9104 | 0.9063 | 0.9084 |\n",
    "| Random Search | 0.9088 | 0.9075 | 0.9084 |\n",
    "\n"
   ]
  },
  {
   "cell_type": "markdown",
   "metadata": {},
   "source": [
    "According to the accuracy table above, we can generally conclude that Grid Search performs the best. The accuracy of RandomForest Classifier and XGBoost Classifier trained by Grid Search are highest among all three methods, while the Classification Routine performs the worst on all three different models. Besides, Random Search has highest accuracy of Bagging and Random Search. \n",
    "\n",
    "It is known that Grid Search is preferable when we have a small to moderate number of hyperparameters and want to be exhaustive in the search. In comparison, Random Search is more suitable for high-dimensional hyperparameter spaces where it is computationally infeasible to test every possible combination. Therefore, since we don't have so many parameters to tune for these three models, it makes sense that the Grid Search method performs slighly better than Random Search. Also, it is natural that the Classification Routine performs the worst because of the absence of hyperparameter tuning.\n",
    "\n",
    "As for these three machine learning models, RandomForest performs the best among these models for all three training approaches.\n",
    "\n",
    "**The final parameters for these models:**\n",
    "\n",
    "- RandomForest: n_estimators=200, max_depth=None\n",
    "- Bagging: estimator=RandomForestClassifier(), n_estimators=100\n",
    "- XGBoost: n_estimators=50, max_depth=4"
   ]
  }
 ],
 "metadata": {
  "kernelspec": {
   "display_name": "Python 3 (ipykernel)",
   "language": "python",
   "name": "python3"
  },
  "language_info": {
   "codemirror_mode": {
    "name": "ipython",
    "version": 3
   },
   "file_extension": ".py",
   "mimetype": "text/x-python",
   "name": "python",
   "nbconvert_exporter": "python",
   "pygments_lexer": "ipython3",
   "version": "3.11.5"
  }
 },
 "nbformat": 4,
 "nbformat_minor": 2
}
